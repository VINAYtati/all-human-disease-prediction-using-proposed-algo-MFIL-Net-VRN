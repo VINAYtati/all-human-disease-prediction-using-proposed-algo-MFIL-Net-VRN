{
  "nbformat": 4,
  "nbformat_minor": 0,
  "metadata": {
    "colab": {
      "provenance": []
    },
    "kernelspec": {
      "name": "python3",
      "display_name": "Python 3"
    },
    "language_info": {
      "name": "python"
    }
  },
  "cells": [
    {
      "cell_type": "code",
      "source": [
        "from google.colab import drive\n",
        "drive.mount('/content/drive')"
      ],
      "metadata": {
        "colab": {
          "base_uri": "https://localhost:8080/"
        },
        "id": "QeZvsZBFORyV",
        "outputId": "cfd6c0f9-e2e6-4fdc-8c5c-bfe238ac6f7a"
      },
      "execution_count": null,
      "outputs": [
        {
          "output_type": "stream",
          "name": "stdout",
          "text": [
            "Mounted at /content/drive\n"
          ]
        }
      ]
    },
    {
      "cell_type": "code",
      "source": [
        "import os\n",
        "import pandas as pd\n",
        "import numpy as np\n",
        "import tensorflow as tf\n",
        "from tensorflow.keras.models import Model\n",
        "from tensorflow.keras.layers import Input, Dense, BatchNormalization, Dropout, GaussianNoise\n",
        "from tensorflow.keras.regularizers import l2\n",
        "from sklearn.model_selection import train_test_split\n",
        "from sklearn.preprocessing import StandardScaler\n",
        "from sklearn.metrics import classification_report, hamming_loss, accuracy_score, f1_score, precision_score, recall_score\n",
        "\n",
        "# ------------------------------\n",
        "# 1. Load and Prepare CSV Vitals Data\n",
        "# ------------------------------\n",
        "folder_path = \"/content/drive/MyDrive/mediumdataset_csv\"  # Update this path if needed\n",
        "\n",
        "dataframes = []\n",
        "for file in os.listdir(folder_path):\n",
        "    if file.endswith('.csv'):\n",
        "        df = pd.read_csv(os.path.join(folder_path, file))\n",
        "        dataframes.append(df)\n",
        "\n",
        "df = pd.concat(dataframes, ignore_index=True)\n",
        "\n",
        "# Rename columns\n",
        "df.rename(columns={\n",
        "    'Heart Rate': 'hr',\n",
        "    'Blood Pressure': 'bp',\n",
        "    'Body Temperature': 'temp',\n",
        "    'Oxygen Level': 'oxygen'\n",
        "}, inplace=True)\n",
        "\n",
        "df.dropna(subset=['hr', 'bp', 'temp', 'oxygen'], inplace=True)\n",
        "\n",
        "# ------------------------------\n",
        "# 2. Add Rule-Based Multi-Label Conditions\n",
        "# ------------------------------\n",
        "df['Early Heart Failure']   = ((df['bp'] < 100) & (df['hr'] > 100)).astype(int)\n",
        "df['Severe Hypoxia']        = (df['oxygen'] < 94).astype(int)\n",
        "df['Hyperventilation']      = ((df['hr'] > 95) & (df['oxygen'] > 96)).astype(int)\n",
        "df['Postural Hypotension']  = ((df['bp'] < 95) & (df['hr'] < 70)).astype(int)\n",
        "df['Mild Infection']        = ((df['temp'] > 37.2) & (df['hr'] < 95)).astype(int)\n",
        "df['Viral Fever']           = ((df['temp'] > 38.0) & (df['hr'] > 95)).astype(int)\n",
        "df['Chronic Bronchitis']    = ((df['oxygen'] < 93) & (df['temp'] < 37.5)).astype(int)\n",
        "df['Cold Exposure']         = (df['temp'] < 36.0).astype(int)\n",
        "df['POTS']                  = ((df['hr'] > 115) & (df['bp'] > 100)).astype(int)\n",
        "df['Allergic Reaction']     = ((df['hr'] > 100) & (df['bp'] > 115) & (df['temp'] > 37)).astype(int)\n",
        "\n",
        "# ------------------------------\n",
        "# 3. Features and Labels\n",
        "# ------------------------------\n",
        "X = df[['hr', 'bp', 'temp', 'oxygen']].values\n",
        "label_columns = [\n",
        "    'Early Heart Failure', 'Severe Hypoxia', 'Hyperventilation',\n",
        "    'Postural Hypotension', 'Mild Infection', 'Viral Fever',\n",
        "    'Chronic Bronchitis', 'Cold Exposure', 'POTS', 'Allergic Reaction'\n",
        "]\n",
        "y = df[label_columns].values\n",
        "\n",
        "# ------------------------------\n",
        "# 4. Preprocessing\n",
        "# ------------------------------\n",
        "scaler = StandardScaler()\n",
        "X_scaled = scaler.fit_transform(X)\n",
        "\n",
        "X_train, X_test, y_train, y_test = train_test_split(X_scaled, y, test_size=0.2, random_state=42)\n",
        "\n",
        "# ------------------------------\n",
        "# 5. Model (MFIL-Net + Simulated VRN)\n",
        "# ------------------------------\n",
        "def build_model(input_dim, output_dim):\n",
        "    inputs = Input(shape=(input_dim,), name=\"Input_Vitals\")\n",
        "    x = GaussianNoise(0.1, name=\"Simulated_VRN_Noise\")(inputs)\n",
        "    x = Dense(128, activation='relu', kernel_regularizer=l2(0.001))(x)\n",
        "    x = BatchNormalization()(x)\n",
        "    x = Dropout(0.3)(x)\n",
        "    x = Dense(64, activation='relu', kernel_regularizer=l2(0.001))(x)\n",
        "    x = BatchNormalization()(x)\n",
        "    x = Dropout(0.3)(x)\n",
        "    outputs = Dense(output_dim, activation='sigmoid')(x)\n",
        "    return Model(inputs, outputs)\n",
        "\n",
        "model = build_model(input_dim=4, output_dim=10)\n",
        "model.compile(optimizer='adam', loss='binary_crossentropy', metrics=['accuracy'])\n",
        "model.summary()\n",
        "\n",
        "# ------------------------------\n",
        "# 6. Train\n",
        "# ------------------------------\n",
        "model.fit(X_train, y_train, epochs=20, batch_size=32, validation_split=0.2)\n",
        "\n",
        "# ------------------------------\n",
        "# -----------------------------\n",
        "\n",
        "\n",
        "# ------------------------------\n",
        "from sklearn.metrics import (\n",
        "    confusion_matrix, precision_score, recall_score, f1_score,\n",
        "    accuracy_score, hamming_loss, roc_auc_score, precision_recall_curve, auc, multilabel_confusion_matrix\n",
        ")\n",
        "\n",
        "y_pred = model.predict(X_test)\n",
        "y_pred_binary = (y_pred > 0.5).astype(int)\n",
        "\n",
        "# 1. Global Metrics (normal = flattened)\n",
        "y_test_flat = y_test.ravel()\n",
        "y_pred_flat = y_pred_binary.ravel()\n",
        "y_prob_flat = y_pred.ravel()\n",
        "\n",
        "# Confusion Matrix\n",
        "tn, fp, fn, tp = confusion_matrix(y_test_flat, y_pred_flat).ravel()\n",
        "\n",
        "# Standard Metrics\n",
        "accuracy = accuracy_score(y_test_flat, y_pred_flat)\n",
        "precision = precision_score(y_test_flat, y_pred_flat, zero_division=0)\n",
        "recall = recall_score(y_test_flat, y_pred_flat, zero_division=0)\n",
        "f1 = f1_score(y_test_flat, y_pred_flat, zero_division=0)\n",
        "hamming = hamming_loss(y_test_flat, y_pred_flat)\n",
        "\n",
        "# Specificity and Sensitivity\n",
        "specificity = tn / (tn + fp) if (tn + fp) > 0 else 0\n",
        "sensitivity = recall  # Sensitivity == Recall\n",
        "\n",
        "# ROC and PR AUC\n",
        "try:\n",
        "    roc_auc = roc_auc_score(y_test_flat, y_prob_flat)\n",
        "except:\n",
        "    roc_auc = 0.0\n",
        "\n",
        "try:\n",
        "    precision_curve, recall_curve, _ = precision_recall_curve(y_test_flat, y_prob_flat)\n",
        "    pr_auc = auc(recall_curve, precision_curve)\n",
        "except:\n",
        "    pr_auc = 0.0\n",
        "\n",
        "# 2. Print All Metrics\n",
        "print(\"\\n✅ Global Binary Evaluation (All Labels Flattened):\")\n",
        "print(f\"Accuracy     : {accuracy:.4f}\")\n",
        "print(f\"Precision    : {precision:.4f}\")\n",
        "print(f\"Recall       : {recall:.4f}\")\n",
        "print(f\"F1 Score     : {f1:.4f}\")\n",
        "print(f\"Hamming Loss : {hamming:.4f}\")\n",
        "print(f\"Specificity  : {specificity:.4f}\")\n",
        "print(f\"Sensitivity  : {sensitivity:.4f}\")\n",
        "print(f\"ROC AUC      : {roc_auc:.4f}\")\n",
        "print(f\"PR AUC       : {pr_auc:.4f}\")\n",
        "print(f\"TP: {tp}, TN: {tn}, FP: {fp}, FN: {fn}\")\n",
        "\n",
        "\n",
        "\n",
        "# ------------------------------\n",
        "# 8. Rule Interpreter (Debug Sample)\n",
        "# ------------------------------\n",
        "def rule_interpreter(sample):\n",
        "    hr, bp, temp, oxygen = sample\n",
        "    return {\n",
        "        \"Early Heart Failure\": int(bp < 100 and hr > 100),\n",
        "        \"Severe Hypoxia\": int(oxygen < 94),\n",
        "        \"Hyperventilation\": int(hr > 95 and oxygen > 96),\n",
        "        \"Postural Hypotension\": int(bp < 95 and hr < 70),\n",
        "        \"Mild Infection\": int(temp > 37.2 and hr < 95),\n",
        "        \"Viral Fever\": int(temp > 38.0 and hr > 95),\n",
        "        \"Chronic Bronchitis\": int(oxygen < 93 and temp < 37.5),\n",
        "        \"Cold Exposure\": int(temp < 36.0),\n",
        "        \"POTS\": int(hr > 115 and bp > 100),\n",
        "        \"Allergic Reaction\": int(hr > 100 and bp > 115 and temp > 37)\n",
        "    }\n",
        "\n",
        "print(\"\\n🧠 Rule-Based Interpretability Example:\")\n",
        "for i in range(3):\n",
        "    print(f\"\\nSample {i+1}: {X[i]}\")\n",
        "    print(rule_interpreter(X[i]))\n",
        "\n",
        "# ------------------------------\n",
        "# 9. TODO: Add VRN Feature Engineering (Signal Coherence)\n",
        "# ------------------------------\n",
        "print(\"\\n🛠️ TODO: Add FFT / Wavelet-based feature engineering for full VRN pipeline.\")"
      ],
      "metadata": {
        "colab": {
          "base_uri": "https://localhost:8080/",
          "height": 1000
        },
        "id": "uD0jILuXrH8s",
        "outputId": "8d0ee507-7fea-49a4-cf33-6edae858169b"
      },
      "execution_count": null,
      "outputs": [
        {
          "output_type": "display_data",
          "data": {
            "text/plain": [
              "\u001b[1mModel: \"functional_2\"\u001b[0m\n"
            ],
            "text/html": [
              "<pre style=\"white-space:pre;overflow-x:auto;line-height:normal;font-family:Menlo,'DejaVu Sans Mono',consolas,'Courier New',monospace\"><span style=\"font-weight: bold\">Model: \"functional_2\"</span>\n",
              "</pre>\n"
            ]
          },
          "metadata": {}
        },
        {
          "output_type": "display_data",
          "data": {
            "text/plain": [
              "┏━━━━━━━━━━━━━━━━━━━━━━━━━━━━━━━━━┳━━━━━━━━━━━━━━━━━━━━━━━━┳━━━━━━━━━━━━━━━┓\n",
              "┃\u001b[1m \u001b[0m\u001b[1mLayer (type)                   \u001b[0m\u001b[1m \u001b[0m┃\u001b[1m \u001b[0m\u001b[1mOutput Shape          \u001b[0m\u001b[1m \u001b[0m┃\u001b[1m \u001b[0m\u001b[1m      Param #\u001b[0m\u001b[1m \u001b[0m┃\n",
              "┡━━━━━━━━━━━━━━━━━━━━━━━━━━━━━━━━━╇━━━━━━━━━━━━━━━━━━━━━━━━╇━━━━━━━━━━━━━━━┩\n",
              "│ Input_Vitals (\u001b[38;5;33mInputLayer\u001b[0m)       │ (\u001b[38;5;45mNone\u001b[0m, \u001b[38;5;34m4\u001b[0m)              │             \u001b[38;5;34m0\u001b[0m │\n",
              "├─────────────────────────────────┼────────────────────────┼───────────────┤\n",
              "│ Simulated_VRN_Noise             │ (\u001b[38;5;45mNone\u001b[0m, \u001b[38;5;34m4\u001b[0m)              │             \u001b[38;5;34m0\u001b[0m │\n",
              "│ (\u001b[38;5;33mGaussianNoise\u001b[0m)                 │                        │               │\n",
              "├─────────────────────────────────┼────────────────────────┼───────────────┤\n",
              "│ dense_6 (\u001b[38;5;33mDense\u001b[0m)                 │ (\u001b[38;5;45mNone\u001b[0m, \u001b[38;5;34m128\u001b[0m)            │           \u001b[38;5;34m640\u001b[0m │\n",
              "├─────────────────────────────────┼────────────────────────┼───────────────┤\n",
              "│ batch_normalization_4           │ (\u001b[38;5;45mNone\u001b[0m, \u001b[38;5;34m128\u001b[0m)            │           \u001b[38;5;34m512\u001b[0m │\n",
              "│ (\u001b[38;5;33mBatchNormalization\u001b[0m)            │                        │               │\n",
              "├─────────────────────────────────┼────────────────────────┼───────────────┤\n",
              "│ dropout_4 (\u001b[38;5;33mDropout\u001b[0m)             │ (\u001b[38;5;45mNone\u001b[0m, \u001b[38;5;34m128\u001b[0m)            │             \u001b[38;5;34m0\u001b[0m │\n",
              "├─────────────────────────────────┼────────────────────────┼───────────────┤\n",
              "│ dense_7 (\u001b[38;5;33mDense\u001b[0m)                 │ (\u001b[38;5;45mNone\u001b[0m, \u001b[38;5;34m64\u001b[0m)             │         \u001b[38;5;34m8,256\u001b[0m │\n",
              "├─────────────────────────────────┼────────────────────────┼───────────────┤\n",
              "│ batch_normalization_5           │ (\u001b[38;5;45mNone\u001b[0m, \u001b[38;5;34m64\u001b[0m)             │           \u001b[38;5;34m256\u001b[0m │\n",
              "│ (\u001b[38;5;33mBatchNormalization\u001b[0m)            │                        │               │\n",
              "├─────────────────────────────────┼────────────────────────┼───────────────┤\n",
              "│ dropout_5 (\u001b[38;5;33mDropout\u001b[0m)             │ (\u001b[38;5;45mNone\u001b[0m, \u001b[38;5;34m64\u001b[0m)             │             \u001b[38;5;34m0\u001b[0m │\n",
              "├─────────────────────────────────┼────────────────────────┼───────────────┤\n",
              "│ dense_8 (\u001b[38;5;33mDense\u001b[0m)                 │ (\u001b[38;5;45mNone\u001b[0m, \u001b[38;5;34m10\u001b[0m)             │           \u001b[38;5;34m650\u001b[0m │\n",
              "└─────────────────────────────────┴────────────────────────┴───────────────┘\n"
            ],
            "text/html": [
              "<pre style=\"white-space:pre;overflow-x:auto;line-height:normal;font-family:Menlo,'DejaVu Sans Mono',consolas,'Courier New',monospace\">┏━━━━━━━━━━━━━━━━━━━━━━━━━━━━━━━━━┳━━━━━━━━━━━━━━━━━━━━━━━━┳━━━━━━━━━━━━━━━┓\n",
              "┃<span style=\"font-weight: bold\"> Layer (type)                    </span>┃<span style=\"font-weight: bold\"> Output Shape           </span>┃<span style=\"font-weight: bold\">       Param # </span>┃\n",
              "┡━━━━━━━━━━━━━━━━━━━━━━━━━━━━━━━━━╇━━━━━━━━━━━━━━━━━━━━━━━━╇━━━━━━━━━━━━━━━┩\n",
              "│ Input_Vitals (<span style=\"color: #0087ff; text-decoration-color: #0087ff\">InputLayer</span>)       │ (<span style=\"color: #00d7ff; text-decoration-color: #00d7ff\">None</span>, <span style=\"color: #00af00; text-decoration-color: #00af00\">4</span>)              │             <span style=\"color: #00af00; text-decoration-color: #00af00\">0</span> │\n",
              "├─────────────────────────────────┼────────────────────────┼───────────────┤\n",
              "│ Simulated_VRN_Noise             │ (<span style=\"color: #00d7ff; text-decoration-color: #00d7ff\">None</span>, <span style=\"color: #00af00; text-decoration-color: #00af00\">4</span>)              │             <span style=\"color: #00af00; text-decoration-color: #00af00\">0</span> │\n",
              "│ (<span style=\"color: #0087ff; text-decoration-color: #0087ff\">GaussianNoise</span>)                 │                        │               │\n",
              "├─────────────────────────────────┼────────────────────────┼───────────────┤\n",
              "│ dense_6 (<span style=\"color: #0087ff; text-decoration-color: #0087ff\">Dense</span>)                 │ (<span style=\"color: #00d7ff; text-decoration-color: #00d7ff\">None</span>, <span style=\"color: #00af00; text-decoration-color: #00af00\">128</span>)            │           <span style=\"color: #00af00; text-decoration-color: #00af00\">640</span> │\n",
              "├─────────────────────────────────┼────────────────────────┼───────────────┤\n",
              "│ batch_normalization_4           │ (<span style=\"color: #00d7ff; text-decoration-color: #00d7ff\">None</span>, <span style=\"color: #00af00; text-decoration-color: #00af00\">128</span>)            │           <span style=\"color: #00af00; text-decoration-color: #00af00\">512</span> │\n",
              "│ (<span style=\"color: #0087ff; text-decoration-color: #0087ff\">BatchNormalization</span>)            │                        │               │\n",
              "├─────────────────────────────────┼────────────────────────┼───────────────┤\n",
              "│ dropout_4 (<span style=\"color: #0087ff; text-decoration-color: #0087ff\">Dropout</span>)             │ (<span style=\"color: #00d7ff; text-decoration-color: #00d7ff\">None</span>, <span style=\"color: #00af00; text-decoration-color: #00af00\">128</span>)            │             <span style=\"color: #00af00; text-decoration-color: #00af00\">0</span> │\n",
              "├─────────────────────────────────┼────────────────────────┼───────────────┤\n",
              "│ dense_7 (<span style=\"color: #0087ff; text-decoration-color: #0087ff\">Dense</span>)                 │ (<span style=\"color: #00d7ff; text-decoration-color: #00d7ff\">None</span>, <span style=\"color: #00af00; text-decoration-color: #00af00\">64</span>)             │         <span style=\"color: #00af00; text-decoration-color: #00af00\">8,256</span> │\n",
              "├─────────────────────────────────┼────────────────────────┼───────────────┤\n",
              "│ batch_normalization_5           │ (<span style=\"color: #00d7ff; text-decoration-color: #00d7ff\">None</span>, <span style=\"color: #00af00; text-decoration-color: #00af00\">64</span>)             │           <span style=\"color: #00af00; text-decoration-color: #00af00\">256</span> │\n",
              "│ (<span style=\"color: #0087ff; text-decoration-color: #0087ff\">BatchNormalization</span>)            │                        │               │\n",
              "├─────────────────────────────────┼────────────────────────┼───────────────┤\n",
              "│ dropout_5 (<span style=\"color: #0087ff; text-decoration-color: #0087ff\">Dropout</span>)             │ (<span style=\"color: #00d7ff; text-decoration-color: #00d7ff\">None</span>, <span style=\"color: #00af00; text-decoration-color: #00af00\">64</span>)             │             <span style=\"color: #00af00; text-decoration-color: #00af00\">0</span> │\n",
              "├─────────────────────────────────┼────────────────────────┼───────────────┤\n",
              "│ dense_8 (<span style=\"color: #0087ff; text-decoration-color: #0087ff\">Dense</span>)                 │ (<span style=\"color: #00d7ff; text-decoration-color: #00d7ff\">None</span>, <span style=\"color: #00af00; text-decoration-color: #00af00\">10</span>)             │           <span style=\"color: #00af00; text-decoration-color: #00af00\">650</span> │\n",
              "└─────────────────────────────────┴────────────────────────┴───────────────┘\n",
              "</pre>\n"
            ]
          },
          "metadata": {}
        },
        {
          "output_type": "display_data",
          "data": {
            "text/plain": [
              "\u001b[1m Total params: \u001b[0m\u001b[38;5;34m10,314\u001b[0m (40.29 KB)\n"
            ],
            "text/html": [
              "<pre style=\"white-space:pre;overflow-x:auto;line-height:normal;font-family:Menlo,'DejaVu Sans Mono',consolas,'Courier New',monospace\"><span style=\"font-weight: bold\"> Total params: </span><span style=\"color: #00af00; text-decoration-color: #00af00\">10,314</span> (40.29 KB)\n",
              "</pre>\n"
            ]
          },
          "metadata": {}
        },
        {
          "output_type": "display_data",
          "data": {
            "text/plain": [
              "\u001b[1m Trainable params: \u001b[0m\u001b[38;5;34m9,930\u001b[0m (38.79 KB)\n"
            ],
            "text/html": [
              "<pre style=\"white-space:pre;overflow-x:auto;line-height:normal;font-family:Menlo,'DejaVu Sans Mono',consolas,'Courier New',monospace\"><span style=\"font-weight: bold\"> Trainable params: </span><span style=\"color: #00af00; text-decoration-color: #00af00\">9,930</span> (38.79 KB)\n",
              "</pre>\n"
            ]
          },
          "metadata": {}
        },
        {
          "output_type": "display_data",
          "data": {
            "text/plain": [
              "\u001b[1m Non-trainable params: \u001b[0m\u001b[38;5;34m384\u001b[0m (1.50 KB)\n"
            ],
            "text/html": [
              "<pre style=\"white-space:pre;overflow-x:auto;line-height:normal;font-family:Menlo,'DejaVu Sans Mono',consolas,'Courier New',monospace\"><span style=\"font-weight: bold\"> Non-trainable params: </span><span style=\"color: #00af00; text-decoration-color: #00af00\">384</span> (1.50 KB)\n",
              "</pre>\n"
            ]
          },
          "metadata": {}
        },
        {
          "output_type": "stream",
          "name": "stdout",
          "text": [
            "Epoch 1/20\n",
            "\u001b[1m384/384\u001b[0m \u001b[32m━━━━━━━━━━━━━━━━━━━━\u001b[0m\u001b[37m\u001b[0m \u001b[1m7s\u001b[0m 6ms/step - accuracy: 0.3644 - loss: 0.6176 - val_accuracy: 0.4892 - val_loss: 0.1946\n",
            "Epoch 2/20\n",
            "\u001b[1m384/384\u001b[0m \u001b[32m━━━━━━━━━━━━━━━━━━━━\u001b[0m\u001b[37m\u001b[0m \u001b[1m3s\u001b[0m 7ms/step - accuracy: 0.4848 - loss: 0.1838 - val_accuracy: 0.5538 - val_loss: 0.1179\n",
            "Epoch 3/20\n",
            "\u001b[1m384/384\u001b[0m \u001b[32m━━━━━━━━━━━━━━━━━━━━\u001b[0m\u001b[37m\u001b[0m \u001b[1m4s\u001b[0m 4ms/step - accuracy: 0.4972 - loss: 0.1346 - val_accuracy: 0.5581 - val_loss: 0.0914\n",
            "Epoch 4/20\n",
            "\u001b[1m384/384\u001b[0m \u001b[32m━━━━━━━━━━━━━━━━━━━━\u001b[0m\u001b[37m\u001b[0m \u001b[1m3s\u001b[0m 5ms/step - accuracy: 0.4910 - loss: 0.1163 - val_accuracy: 0.5411 - val_loss: 0.0863\n",
            "Epoch 5/20\n",
            "\u001b[1m384/384\u001b[0m \u001b[32m━━━━━━━━━━━━━━━━━━━━\u001b[0m\u001b[37m\u001b[0m \u001b[1m2s\u001b[0m 4ms/step - accuracy: 0.4981 - loss: 0.1068 - val_accuracy: 0.5561 - val_loss: 0.0768\n",
            "Epoch 6/20\n",
            "\u001b[1m384/384\u001b[0m \u001b[32m━━━━━━━━━━━━━━━━━━━━\u001b[0m\u001b[37m\u001b[0m \u001b[1m3s\u001b[0m 6ms/step - accuracy: 0.5033 - loss: 0.0988 - val_accuracy: 0.5261 - val_loss: 0.0721\n",
            "Epoch 7/20\n",
            "\u001b[1m384/384\u001b[0m \u001b[32m━━━━━━━━━━━━━━━━━━━━\u001b[0m\u001b[37m\u001b[0m \u001b[1m3s\u001b[0m 7ms/step - accuracy: 0.4854 - loss: 0.0963 - val_accuracy: 0.5437 - val_loss: 0.0683\n",
            "Epoch 8/20\n",
            "\u001b[1m384/384\u001b[0m \u001b[32m━━━━━━━━━━━━━━━━━━━━\u001b[0m\u001b[37m\u001b[0m \u001b[1m4s\u001b[0m 5ms/step - accuracy: 0.5079 - loss: 0.0938 - val_accuracy: 0.5616 - val_loss: 0.0666\n",
            "Epoch 9/20\n",
            "\u001b[1m384/384\u001b[0m \u001b[32m━━━━━━━━━━━━━━━━━━━━\u001b[0m\u001b[37m\u001b[0m \u001b[1m2s\u001b[0m 5ms/step - accuracy: 0.5063 - loss: 0.0924 - val_accuracy: 0.5597 - val_loss: 0.0665\n",
            "Epoch 10/20\n",
            "\u001b[1m384/384\u001b[0m \u001b[32m━━━━━━━━━━━━━━━━━━━━\u001b[0m\u001b[37m\u001b[0m \u001b[1m2s\u001b[0m 4ms/step - accuracy: 0.5058 - loss: 0.0946 - val_accuracy: 0.5672 - val_loss: 0.0657\n",
            "Epoch 11/20\n",
            "\u001b[1m384/384\u001b[0m \u001b[32m━━━━━━━━━━━━━━━━━━━━\u001b[0m\u001b[37m\u001b[0m \u001b[1m4s\u001b[0m 7ms/step - accuracy: 0.5053 - loss: 0.0880 - val_accuracy: 0.5587 - val_loss: 0.0660\n",
            "Epoch 12/20\n",
            "\u001b[1m384/384\u001b[0m \u001b[32m━━━━━━━━━━━━━━━━━━━━\u001b[0m\u001b[37m\u001b[0m \u001b[1m2s\u001b[0m 6ms/step - accuracy: 0.5057 - loss: 0.0911 - val_accuracy: 0.5117 - val_loss: 0.0638\n",
            "Epoch 13/20\n",
            "\u001b[1m384/384\u001b[0m \u001b[32m━━━━━━━━━━━━━━━━━━━━\u001b[0m\u001b[37m\u001b[0m \u001b[1m2s\u001b[0m 4ms/step - accuracy: 0.5063 - loss: 0.0914 - val_accuracy: 0.5486 - val_loss: 0.0662\n",
            "Epoch 14/20\n",
            "\u001b[1m384/384\u001b[0m \u001b[32m━━━━━━━━━━━━━━━━━━━━\u001b[0m\u001b[37m\u001b[0m \u001b[1m3s\u001b[0m 4ms/step - accuracy: 0.5025 - loss: 0.0877 - val_accuracy: 0.5669 - val_loss: 0.0637\n",
            "Epoch 15/20\n",
            "\u001b[1m384/384\u001b[0m \u001b[32m━━━━━━━━━━━━━━━━━━━━\u001b[0m\u001b[37m\u001b[0m \u001b[1m2s\u001b[0m 4ms/step - accuracy: 0.5088 - loss: 0.0906 - val_accuracy: 0.5613 - val_loss: 0.0641\n",
            "Epoch 16/20\n",
            "\u001b[1m384/384\u001b[0m \u001b[32m━━━━━━━━━━━━━━━━━━━━\u001b[0m\u001b[37m\u001b[0m \u001b[1m3s\u001b[0m 6ms/step - accuracy: 0.5042 - loss: 0.0872 - val_accuracy: 0.5496 - val_loss: 0.0630\n",
            "Epoch 17/20\n",
            "\u001b[1m384/384\u001b[0m \u001b[32m━━━━━━━━━━━━━━━━━━━━\u001b[0m\u001b[37m\u001b[0m \u001b[1m3s\u001b[0m 7ms/step - accuracy: 0.5052 - loss: 0.0931 - val_accuracy: 0.5509 - val_loss: 0.0640\n",
            "Epoch 18/20\n",
            "\u001b[1m384/384\u001b[0m \u001b[32m━━━━━━━━━━━━━━━━━━━━\u001b[0m\u001b[37m\u001b[0m \u001b[1m2s\u001b[0m 4ms/step - accuracy: 0.5046 - loss: 0.0908 - val_accuracy: 0.5499 - val_loss: 0.0644\n",
            "Epoch 19/20\n",
            "\u001b[1m384/384\u001b[0m \u001b[32m━━━━━━━━━━━━━━━━━━━━\u001b[0m\u001b[37m\u001b[0m \u001b[1m3s\u001b[0m 5ms/step - accuracy: 0.5157 - loss: 0.0900 - val_accuracy: 0.5447 - val_loss: 0.0636\n",
            "Epoch 20/20\n",
            "\u001b[1m384/384\u001b[0m \u001b[32m━━━━━━━━━━━━━━━━━━━━\u001b[0m\u001b[37m\u001b[0m \u001b[1m2s\u001b[0m 4ms/step - accuracy: 0.4918 - loss: 0.0869 - val_accuracy: 0.5616 - val_loss: 0.0640\n",
            "\u001b[1m120/120\u001b[0m \u001b[32m━━━━━━━━━━━━━━━━━━━━\u001b[0m\u001b[37m\u001b[0m \u001b[1m0s\u001b[0m 2ms/step\n",
            "\n",
            "✅ Global Binary Evaluation (All Labels Flattened):\n",
            "Accuracy     : 0.9739\n",
            "Precision    : 0.9641\n",
            "Recall       : 0.7885\n",
            "F1 Score     : 0.8675\n",
            "Hamming Loss : 0.0261\n",
            "Specificity  : 0.9964\n",
            "Sensitivity  : 0.7885\n",
            "ROC AUC      : 0.9955\n",
            "PR AUC       : 0.9697\n",
            "TP: 3274, TN: 34056, FP: 122, FN: 878\n",
            "\n",
            "🧠 Rule-Based Interpretability Example:\n",
            "\n",
            "Sample 1: [ 96.  109.   34.8  88. ]\n",
            "{'Early Heart Failure': 0, 'Severe Hypoxia': 1, 'Hyperventilation': 0, 'Postural Hypotension': 0, 'Mild Infection': 0, 'Viral Fever': 0, 'Chronic Bronchitis': 1, 'Cold Exposure': 1, 'POTS': 0, 'Allergic Reaction': 0}\n",
            "\n",
            "Sample 2: [ 75.  111.   35.2  98. ]\n",
            "{'Early Heart Failure': 0, 'Severe Hypoxia': 0, 'Hyperventilation': 0, 'Postural Hypotension': 0, 'Mild Infection': 0, 'Viral Fever': 0, 'Chronic Bronchitis': 0, 'Cold Exposure': 1, 'POTS': 0, 'Allergic Reaction': 0}\n",
            "\n",
            "Sample 3: [ 61.  119.   34.7  99. ]\n",
            "{'Early Heart Failure': 0, 'Severe Hypoxia': 0, 'Hyperventilation': 0, 'Postural Hypotension': 0, 'Mild Infection': 0, 'Viral Fever': 0, 'Chronic Bronchitis': 0, 'Cold Exposure': 1, 'POTS': 0, 'Allergic Reaction': 0}\n",
            "\n",
            "🛠️ TODO: Add FFT / Wavelet-based feature engineering for full VRN pipeline.\n"
          ]
        }
      ]
    },
    {
      "cell_type": "code",
      "source": [
        "import matplotlib.pyplot as plt\n",
        "\n",
        "# Example metric values from your code (make sure these match your actual variables)\n",
        "metrics = {\n",
        "    \"Accuracy\": accuracy,\n",
        "    \"Precision\": precision,\n",
        "    \"Recall\": recall,\n",
        "    \"F1 Score\": f1,\n",
        "    \"Specificity\": specificity,\n",
        "    \"Sensitivity\": sensitivity,\n",
        "    \"ROC AUC\": roc_auc,\n",
        "    \"PR AUC\": pr_auc,\n",
        "    \"Hamming Score\": 1 - hamming  # converting from loss to score\n",
        "}\n",
        "\n",
        "# Plotting\n",
        "plt.figure(figsize=(12, 6))\n",
        "bars = plt.bar(metrics.keys(), metrics.values(), color='skyblue')\n",
        "plt.ylim(0, 1.1)\n",
        "\n",
        "# Annotate values on top of bars\n",
        "for bar in bars:\n",
        "    height = bar.get_height()\n",
        "    plt.text(bar.get_x() + bar.get_width() / 2, height + 0.01, f\"{height:.2f}\",\n",
        "             ha='center', va='bottom', fontsize=10)\n",
        "\n",
        "plt.title(\"Model Evaluation Metrics\", fontsize=14, weight='bold')\n",
        "plt.ylabel(\"Score\")\n",
        "plt.xticks(rotation=45)\n",
        "plt.grid(axis='y', linestyle='--', alpha=0.7)\n",
        "plt.tight_layout()\n",
        "plt.show()\n"
      ],
      "metadata": {
        "colab": {
          "base_uri": "https://localhost:8080/",
          "height": 590
        },
        "id": "LNUYcX3xu4Kc",
        "outputId": "d7ecfdcb-a417-4b64-f764-86eb2ff0b1d7"
      },
      "execution_count": null,
      "outputs": [
        {
          "output_type": "display_data",
          "data": {
            "text/plain": [
              "<Figure size 1200x600 with 1 Axes>"
            ],
            "image/png": "[encoded data removed]"
          },
          "metadata": {}
        }
      ]
    }
  ]
}